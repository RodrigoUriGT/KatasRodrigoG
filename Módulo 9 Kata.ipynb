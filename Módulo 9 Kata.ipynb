{
  "cells": [
    {
      "cell_type": "markdown",
      "metadata": {},
      "source": [
        "# Ejercicio: Uso de funciones en Python"
      ]
    },
    {
      "cell_type": "markdown",
      "metadata": {},
      "source": [
        "### Ejercicio 1: Trabajar con argumentos en funciones\n",
        "\n",
        "Los argumentos requeridos en las funciones se utilizan cuando las funciones necesitan que esos argumentos funcionen correctamente. En este ejercicio, construirás un informe de combustible que requiere información de varias ubicaciones de combustible en todo el cohete.\n",
        "\n"
      ]
    },
    {
      "cell_type": "markdown",
      "metadata": {},
      "source": [
        "> **TIP**\n",
        "> Dedica unos minutos para tratar de encontrar una solución. Luego desplázate hacia abajo hasta la parte inferior para ver si has logrado compilar el programa de acuerdo con las especificaciones\n",
        "\n",
        "Comienza por crear una función que necesite tres lecturas de combustible y devuelva un informe:"
      ]
    },
    {
      "cell_type": "code",
      "execution_count": 6,
      "metadata": {},
      "outputs": [],
      "source": [
        "# Función para leer 3 tanques de combustible y muestre el promedio\n",
        "def informe (tanque1, tanque2, tanque3):\n",
        "    prom = (tanque1+tanque2+tanque3)/3\n",
        "    return f\"\"\"Informe de Combustible:\n",
        "    Promedio: {prom}\n",
        "    Tanque 1: {tanque1}\n",
        "    Tanque 2: {tanque2}\n",
        "    Tanque 3: {tanque3} \"\"\"\n"
      ]
    },
    {
      "cell_type": "markdown",
      "metadata": {},
      "source": [
        "Ahora que hemos definido la función de informes, vamos a comprobarlo. Para esta misión, los tanques no están llenos:"
      ]
    },
    {
      "cell_type": "code",
      "execution_count": 7,
      "metadata": {},
      "outputs": [
        {
          "name": "stdout",
          "output_type": "stream",
          "text": [
            "Informe de Combustible:\n",
            "    Promedio: 20.0\n",
            "    Tanque 1: 10\n",
            "    Tanque 2: 30\n",
            "    Tanque 3: 20 \n"
          ]
        }
      ],
      "source": [
        "# Llamamos a la función que genera el reporte print(funcion(tanque1, tanque2, tanque3))\n",
        "\n",
        "print(informe(10,30,20))\n"
      ]
    },
    {
      "cell_type": "markdown",
      "metadata": {},
      "source": [
        "En lugar de simplemente crear el informe, la función también está calculando el promedio. Mejora la legibilidad extrayendo el cálculo promedio de la función en una nueva función para que el promedio se pueda hacer de forma independiente:"
      ]
    },
    {
      "cell_type": "code",
      "execution_count": 8,
      "metadata": {},
      "outputs": [],
      "source": [
        "# Función promedio \n",
        "def promedio (*num):\n",
        "    sumar= sum(num)\n",
        "    elem= len(num)\n",
        "    prom= sumar/elem\n",
        "    return prom\n",
        "    "
      ]
    },
    {
      "cell_type": "code",
      "execution_count": 16,
      "metadata": {},
      "outputs": [
        {
          "name": "stdout",
          "output_type": "stream",
          "text": [
            "10.0\n",
            "5.0\n"
          ]
        }
      ],
      "source": [
        "#Probar funcióm promedio\n",
        "\n",
        "a= 5\n",
        "b= 10\n",
        "c= 15\n",
        "print(promedio(a,b,c))\n",
        "print(promedio(2,4,6,8))\n",
        "\n"
      ]
    },
    {
      "cell_type": "markdown",
      "metadata": {},
      "source": [
        "Ahora actualiza la función de informes para llamando a la nueva función del promedio:\n"
      ]
    },
    {
      "cell_type": "code",
      "execution_count": 17,
      "metadata": {},
      "outputs": [],
      "source": [
        "# Actualiza la función\n",
        "def informe (tanque1, tanque2, tanque3):\n",
        "    prom = promedio(tanque1, tanque2, tanque3)\n",
        "    return f\"\"\"Informe de Combustible:\n",
        "    Promedio: {prom}\n",
        "    Tanque 1: {tanque1}\n",
        "    Tanque 2: {tanque2}\n",
        "    Tanque 3: {tanque3} \"\"\""
      ]
    },
    {
      "cell_type": "code",
      "execution_count": 18,
      "metadata": {},
      "outputs": [
        {
          "name": "stdout",
          "output_type": "stream",
          "text": [
            "Informe de Combustible:\n",
            "    Promedio: 10.0\n",
            "    Tanque 1: 10\n",
            "    Tanque 2: 5\n",
            "    Tanque 3: 15 \n"
          ]
        }
      ],
      "source": [
        "print(informe(10,5,15))"
      ]
    },
    {
      "cell_type": "markdown",
      "metadata": {},
      "source": [
        "> Recuerda: Lo importante es intentarlo, puedes auxiliarte de internet, libros, etc. El objetivo de una kata es la comprobación de la comprensión de la lección y su aplicación inmediata a la resolución de problemas. Go for it!"
      ]
    },
    {
      "cell_type": "markdown",
      "metadata": {},
      "source": [
        "## Ejercicio 2: Trabajo con argumentos de palabra clave"
      ]
    },
    {
      "cell_type": "markdown",
      "metadata": {},
      "source": [
        "### Ejercicio : Trabajar con argumentos de palabras clave en funciones\n",
        "En este ejercicio, construirás un informe de cohete que requiere varias piezas de información, como el tiempo hasta el destino, el combustible a la izquierda y el nombre del destino. Comienza por crear una función que creará un informe preciso de la misión:"
      ]
    },
    {
      "cell_type": "code",
      "execution_count": 19,
      "metadata": {},
      "outputs": [],
      "source": [
        "# Función con un informe preciso de la misión. Considera hora de prelanzamiento, tiempo de vuelo, destino, tanque externo y tanque interno\n",
        "def Resumen (hora, vuelo, destino, tanqueex, tanquein):\n",
        "    \n",
        "    return f\"\"\"Resumen:\n",
        "    Hora:            {hora}\n",
        "    Tiempo de Vuelo: {vuelo}\n",
        "    Destino:         {destino}\n",
        "    Tanque Externo:  {tanqueex} \n",
        "    Tanque Interno:  {tanquein}\n",
        "    \"\"\""
      ]
    },
    {
      "cell_type": "markdown",
      "metadata": {},
      "source": [
        "La función es problemática porque no se puede adaptar para minutos adicionales o tanques adicionales de combustible. Hazlo más flexible permitiendo cualquier número de pasos basados en el tiempo y cualquier número de tanques. En lugar de usar `*args` y `**kwargs`, aprovecha el hecho de que puedes usar cualquier nombre que desees. Asegurate que la función sea más legible mediante el uso de nombres de variables que están asociados con las entradas, como `*minutes` y `**fuel_reservoirs`:"
      ]
    },
    {
      "cell_type": "code",
      "execution_count": 3,
      "metadata": {},
      "outputs": [
        {
          "name": "stdout",
          "output_type": "stream",
          "text": [
            "Resumen:\n",
            "    Tiempo de Vuelo:   30 minutos\n",
            "    Destino:           Luna\n",
            "    Combustible Total: 60 litros\n",
            "    \n"
          ]
        }
      ],
      "source": [
        "# Escribe tu nueva función de reporte considerando lo anterior\n",
        "def resumen (destino, *minutos, **combustible):\n",
        "    \n",
        "    return f\"\"\"Resumen:\n",
        "    Tiempo de Vuelo:   {sum(minutos)} minutos\n",
        "    Destino:           {destino}\n",
        "    Combustible Total: {sum(combustible.values())} litros\n",
        "    \"\"\"\n",
        "\n",
        "\n",
        "print(resumen('Luna',10,10,10, tanque1= 10, tanque2=20, tanque3=20))"
      ]
    },
    {
      "cell_type": "markdown",
      "metadata": {},
      "source": [
        "Debido a que el combustible que queda en los tanques es específico de cada tanque, actualiza la función para usar el nombre de cada tanque en el informe:"
      ]
    },
    {
      "cell_type": "code",
      "execution_count": 26,
      "metadata": {},
      "outputs": [
        {
          "name": "stdout",
          "output_type": "stream",
          "text": [
            "\n",
            "    Resumen:\n",
            "    Tiempo de Vuelo:   30 minutos\n",
            "    Destino:           Luna\n",
            "    Combustible Total: 50 litros\n",
            "    tanque1 10 litros tanque2 20 litros tanque3 20 litros \n"
          ]
        }
      ],
      "source": [
        "# Escribe tu nueva función\n",
        "def resumen (destino, *minutos, **combustible):\n",
        "    \n",
        "    Resumen= f\"\"\"\n",
        "    Resumen:\n",
        "    Tiempo de Vuelo:   {sum(minutos)} minutos\n",
        "    Destino:           {destino}\n",
        "    Combustible Total: {sum(combustible.values())} litros\n",
        "    \"\"\"\n",
        "    for fuente, cantidad in combustible.items():\n",
        "        Resumen += f\"{fuente} {cantidad} litros \"\n",
        "    return Resumen\n",
        "\n",
        "print(resumen('Luna',10,10,10, tanque1= 10, tanque2=20, tanque3=20))\n",
        "\n",
        "\n",
        "\n"
      ]
    }
  ],
  "metadata": {
    "interpreter": {
      "hash": "205095b8b86ea82a021a8fc2ffba2b3bc9f8d0be25999901963b225939f75778"
    },
    "kernelspec": {
      "display_name": "Python 3.8.10 64-bit ('tmp': conda)",
      "name": "python3"
    },
    "language_info": {
      "codemirror_mode": {
        "name": "ipython",
        "version": 3
      },
      "file_extension": ".py",
      "mimetype": "text/x-python",
      "name": "python",
      "nbconvert_exporter": "python",
      "pygments_lexer": "ipython3",
      "version": "3.9.6"
    },
    "nteract": {
      "version": "nteract-front-end@1.0.0"
    },
    "orig_nbformat": 4
  },
  "nbformat": 4,
  "nbformat_minor": 2
}
