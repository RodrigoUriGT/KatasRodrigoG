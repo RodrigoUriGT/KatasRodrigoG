{
 "cells": [
  {
   "cell_type": "markdown",
   "metadata": {},
   "source": [
    "# Módulo 3. Condicionales if else, else if y operadores and or"
   ]
  },
  {
   "cell_type": "markdown",
   "metadata": {},
   "source": [
    "## Problema 1. Asteroide, peligro o no peligro"
   ]
  },
  {
   "cell_type": "code",
   "execution_count": 2,
   "metadata": {},
   "outputs": [
    {
     "name": "stdout",
     "output_type": "stream",
     "text": [
      "¡Asteriode Aproximandose!\n",
      "No existe riesgo\n"
     ]
    }
   ],
   "source": [
    "#Escribir una lógica condicional que imprima una advertencia si un asteroide se acerca a la Tierra demasiado rápido. \n",
    "# La velocidad del asteroide varía dependiendo de lo cerca que esté del sol, \n",
    "# y cualquier velocidad superior a 25 kilómetros por segundo (km/s) merece una advertencia.\n",
    "\n",
    "# Añadir el código necesario para crear una variable que guarde la velocidad del asteroide.\n",
    "# Escribe una expresión de prueba para calcular si necesita una advertencia.\n",
    "# Agregue las instrucciones que se ejecutarán si la expresión de prueba es true o false.\n",
    "\n",
    "\n",
    "print (\"¡Asteriode Aproximandose!\")\n",
    "ast = input (\"¿Cuál es su velocidad?\")\n",
    "if int(ast) > 25:\n",
    "    print(\"¡Peligro!\")\n",
    "else:\n",
    "    print(\"No existe riesgo\")\n",
    "\n",
    "\n"
   ]
  },
  {
   "cell_type": "code",
   "execution_count": 4,
   "metadata": {},
   "outputs": [
    {
     "name": "stdout",
     "output_type": "stream",
     "text": [
      "¡Peligro!\n"
     ]
    }
   ],
   "source": [
    "#Un asteroide se acerca, y viaja a una velocidad de 49 km/s.\n",
    "\n",
    "ast = 49\n",
    "if ast > 25:\n",
    "    print(\"¡Peligro!\")\n",
    "else:\n",
    "    print(\"No existe riesgo\")"
   ]
  },
  {
   "cell_type": "markdown",
   "metadata": {},
   "source": [
    "## Problema 2. Asteroide 19 km/s"
   ]
  },
  {
   "cell_type": "code",
   "execution_count": 8,
   "metadata": {},
   "outputs": [
    {
     "name": "stdout",
     "output_type": "stream",
     "text": [
      "Nada que ver\n"
     ]
    }
   ],
   "source": [
    "# Si un asteroide entra en la atmósfera de la Tierra a una velocidad mayor o igual a 20 km/s, \n",
    "# a veces produce un rayo de luz que se puede ver desde la Tierra.\n",
    "# Ecribe la lógica condicional que usa declaraciones if, else, y elif para alertar a las personas de todo el mundo \n",
    "# que deben buscar un asteroide en el cielo. \n",
    "# ¡Hay uno que se dirige a la tierra ahora a una velocidad de 19 km/s!\n",
    "\n",
    "# Agrega el código para crear una variable para un asteroide que viaja a 19 km/s\n",
    "# Escribe varias expresiones de prueba para determinar si puedes ver el rayo de luz desde la tierra\n",
    "# Agrega las instrucciones que se ejecutarán si las expresiones de prueba son True o False\n",
    "\n",
    "ast = 19\n",
    "if ast > 20:\n",
    "    print(\"Miren al cielo\")\n",
    "elif ast == 20:\n",
    "    print(\"Miren al cielo\")\n",
    "else:\n",
    "    print(\"Nada que ver\")"
   ]
  },
  {
   "cell_type": "markdown",
   "metadata": {},
   "source": [
    "## Problema 3."
   ]
  },
  {
   "cell_type": "markdown",
   "metadata": {},
   "source": [
    "Los asteroides de menos de 25 metros en su dimensión más grande probablemente se quemarán a medida que entren en la atmósfera de la Tierra.\n",
    "\n",
    "Si una pieza de un asteroide que es más grande que 25 metros pero más pequeña que 1000 metros golpeara la Tierra, causaría mucho daño.\n",
    "\n",
    "La velocidad del asteroide varía en función de lo cerca que esté del sol, y cualquier velocidad superior a 25 kilómetros por segundo (km/s) merece una advertencia.\n",
    "Si un asteroide entra en la atmósfera de la Tierra a una velocidad mayor o igual a 20 km/s, a veces produce un rayo de luz que se puede ver desde la Tierra.\n",
    "\n",
    "Usando toda esta información, escribe un programa que emita la advertencia o información correcta a la gente de la Tierra, según la velocidad y el tamaño de un asteroide. Utiliza instrucciones if, else, y elif, así como los operadores and y or."
   ]
  },
  {
   "cell_type": "code",
   "execution_count": 12,
   "metadata": {},
   "outputs": [
    {
     "name": "stdout",
     "output_type": "stream",
     "text": [
      "¡Asteriode Aproximandose!\n",
      "Nada que ver\n"
     ]
    }
   ],
   "source": [
    "print (\"¡Asteriode Aproximandose!\")\n",
    "velocidad_asteriode = input (\"¿Cuál es su velocidad?\")\n",
    "tamaño_asteroide = input (\"¿Cuál es su tamaño?\")\n",
    "if int(velocidad_asteriode) > 25 and int(tamaño_asteroide > 25):\n",
    "    print(\"¡Peligro!\")\n",
    "elif int(velocidad_asteriode) >= 20:\n",
    "    print(\"Mira al cielo\")\n",
    "elif int(tamaño_asteroide) < 25:\n",
    "    print(\"Nada que ver\")\n",
    "else:\n",
    "    print(\"Nada que ver\")\n",
    "\n",
    "\n"
   ]
  }
 ],
 "metadata": {
  "interpreter": {
   "hash": "2f566aa225148740d66d7bffa8fbb341b94ef6f9f805c9c9e52b474a3635c9a1"
  },
  "kernelspec": {
   "display_name": "Python 3.9.6 64-bit",
   "language": "python",
   "name": "python3"
  },
  "language_info": {
   "codemirror_mode": {
    "name": "ipython",
    "version": 3
   },
   "file_extension": ".py",
   "mimetype": "text/x-python",
   "name": "python",
   "nbconvert_exporter": "python",
   "pygments_lexer": "ipython3",
   "version": "3.10.2"
  },
  "orig_nbformat": 4
 },
 "nbformat": 4,
 "nbformat_minor": 2
}
